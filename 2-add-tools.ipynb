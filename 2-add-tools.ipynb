{
 "cells": [
  {
   "cell_type": "code",
   "execution_count": 1,
   "id": "a125d8ba",
   "metadata": {},
   "outputs": [],
   "source": [
    "from typing import Annotated\n",
    "\n",
    "from typing_extensions import TypedDict\n",
    "\n",
    "from langgraph.graph import StateGraph, START, END\n",
    "from langgraph.graph.message import add_messages\n",
    "\n",
    "\n",
    "class State(TypedDict):\n",
    "    # Messages have the type \"list\". The `add_messages` function\n",
    "    # in the annotation defines how this state key should be updated\n",
    "    # (in this case, it appends messages to the list, rather than overwriting them)\n",
    "    messages: Annotated[list, add_messages]\n",
    "\n",
    "\n",
    "graph_builder = StateGraph(State)"
   ]
  },
  {
   "cell_type": "markdown",
   "id": "3d2298c2",
   "metadata": {},
   "source": [
    "## Add tools"
   ]
  },
  {
   "cell_type": "code",
   "execution_count": 2,
   "id": "0c8a1c54",
   "metadata": {},
   "outputs": [],
   "source": [
    "from langchain_tavily import TavilySearch\n",
    "tool = TavilySearch(max_results=2)\n",
    "tools = [tool]"
   ]
  },
  {
   "cell_type": "code",
   "execution_count": 3,
   "id": "f3f56223",
   "metadata": {},
   "outputs": [
    {
     "data": {
      "text/plain": [
       "<langgraph.graph.state.StateGraph at 0x129850590>"
      ]
     },
     "execution_count": 3,
     "metadata": {},
     "output_type": "execute_result"
    }
   ],
   "source": [
    "from langchain_openai import ChatOpenAI\n",
    "import os\n",
    "from langchain.chat_models import init_chat_model\n",
    "\n",
    "os.environ[\"OPENAI_API_KEY\"] = \"none\"\n",
    "\n",
    "llm = init_chat_model(\n",
    "    model=\"google/gemma-3-4b\",\n",
    "    temperature=0.1,\n",
    "    base_url=\"http://localhost:1234/v1/\",\n",
    "    model_provider=\"openai\",\n",
    ")\n",
    "\n",
    "llm_with_tools = llm.bind_tools(tools)\n",
    "\n",
    "\n",
    "def chatBot(state: State):\n",
    "    return {\"messages\": [llm_with_tools.invoke(state[\"messages\"])]}\n",
    "\n",
    "\n",
    "graph_builder.add_node(\"chatbot\", chatBot)"
   ]
  },
  {
   "cell_type": "markdown",
   "id": "965b813c",
   "metadata": {},
   "source": [
    "## Tool Node"
   ]
  },
  {
   "cell_type": "code",
   "execution_count": 4,
   "id": "6d7aa146",
   "metadata": {},
   "outputs": [
    {
     "data": {
      "text/plain": [
       "<langgraph.graph.state.StateGraph at 0x129850590>"
      ]
     },
     "execution_count": 4,
     "metadata": {},
     "output_type": "execute_result"
    }
   ],
   "source": [
    "import json\n",
    "\n",
    "from langchain_core.messages import ToolMessage\n",
    "\n",
    "\n",
    "class BasicToolNode:\n",
    "    \"\"\"A node that runs the tools requested in the last AIMessage.\"\"\"\n",
    "\n",
    "    def __init__(self, tools: list) -> None:\n",
    "        self.tools_by_name = {tool.name: tool for tool in tools}\n",
    "\n",
    "    def __call__(self, inputs: dict):\n",
    "        if messages := inputs.get(\"messages\", []):\n",
    "            message = messages[-1]\n",
    "        else:\n",
    "            raise ValueError(\"No message found in input\")\n",
    "        outputs = []\n",
    "        for tool_call in message.tool_calls:\n",
    "            tool_result = self.tools_by_name[tool_call[\"name\"]].invoke(\n",
    "                tool_call[\"args\"]\n",
    "            )\n",
    "            outputs.append(\n",
    "                ToolMessage(\n",
    "                    content=json.dumps(tool_result),\n",
    "                    name=tool_call[\"name\"],\n",
    "                    tool_call_id=tool_call[\"id\"],\n",
    "                )\n",
    "            )\n",
    "        return {\"messages\": outputs}\n",
    "\n",
    "\n",
    "tool_node = BasicToolNode(tools=[tool])\n",
    "graph_builder.add_node(\"tools\", tool_node)"
   ]
  },
  {
   "cell_type": "markdown",
   "id": "4fb85123",
   "metadata": {},
   "source": [
    "## Compile Graph"
   ]
  },
  {
   "cell_type": "code",
   "execution_count": 5,
   "id": "32f2db5d",
   "metadata": {},
   "outputs": [],
   "source": [
    "\n",
    "def route_tools(\n",
    "    state: State | list  # Allow state to be a list of messages for compatibility,\n",
    "):\n",
    "    \"\"\"\n",
    "    Use in the conditional_edge to route to the ToolNode if the last message\n",
    "    has tool calls. Otherwise, route to the end.\n",
    "    \"\"\"\n",
    "    if isinstance(state, list):\n",
    "        ai_message = state[-1]\n",
    "    elif messages := state.get(\"messages\", []):\n",
    "        ai_message = messages[-1]\n",
    "    else:\n",
    "        raise ValueError(f\"No messages found in input state to tool_edge: {state}\")\n",
    "    if hasattr(ai_message, \"tool_calls\") and len(ai_message.tool_calls) > 0:\n",
    "        return \"tools\"\n",
    "    # If no tool calls, return END to indicate no tools are needed\n",
    "    return END\n",
    "\n",
    "\n",
    "# The `tools_condition` function returns \"tools\" if the chatbot asks to use a tool, and \"END\" if\n",
    "# it is fine directly responding. This conditional routing defines the main agent loop.\n",
    "graph_builder.add_conditional_edges(\n",
    "    \"chatbot\",\n",
    "    route_tools,\n",
    "    # The following dictionary lets you tell the graph to interpret the condition's outputs as a specific node\n",
    "    # It defaults to the identity function, but if you\n",
    "    # want to use a node named something else apart from \"tools\",\n",
    "    # You can update the value of the dictionary to something else\n",
    "    # e.g., \"tools\": \"my_tools\"\n",
    "    {\"tools\": \"tools\", END: END},\n",
    ")\n",
    "# Any time a tool is called, we return to the chatbot to decide the next step\n",
    "graph_builder.add_edge(\"tools\", \"chatbot\")\n",
    "graph_builder.add_edge(START, \"chatbot\")\n",
    "graph = graph_builder.compile()"
   ]
  },
  {
   "cell_type": "markdown",
   "id": "37795c34",
   "metadata": {},
   "source": [
    "# Chat bot loop"
   ]
  },
  {
   "cell_type": "code",
   "execution_count": 6,
   "id": "e6ed81d7",
   "metadata": {},
   "outputs": [
    {
     "name": "stdout",
     "output_type": "stream",
     "text": [
      "Tool calls: [{'name': 'tavily_search', 'args': {'query': 'best asian stir fry recipes'}, 'id': '836973096', 'type': 'tool_call'}]\n",
      "Agent: {\"query\": \"best asian stir fry recipes\", \"follow_up_questions\": null, \"answer\": null, \"images\": [], \"results\": [{\"title\": \"36 Asian Stir-Fry Recipes That Won't Have You Missing Takeout\", \"url\": \"https://www.tasteofhome.com/collection/best-stir-fry-recipes/\", \"content\": \"There's no need for take-out when you have these Asian stir fry recipes at your fingertips. Find chicken, beef, seafood and vegetable stir fry recipes right here.\", \"score\": 0.7938904, \"raw_content\": null}, {\"title\": \"Our 25 Best Stir-Fry Recipes\", \"url\": \"https://www.allrecipes.com/gallery/best-stir-fry-recipes/\", \"content\": \"Our most popular stir-fry recipe is a classic Chinese restaurant dish you can make at home in just 20 minutes.\\\"You have to give anything this fast, healthy and so full of flavor a 5. Note this isn't a recipe for small children or others with a tongue that can't handle the heat,\\\" says one reviewer.\", \"score\": 0.7161595, \"raw_content\": null}], \"response_time\": 1.87}\n",
      "Agent: Okay, here are a couple of great options for Asian stir-fries! The first is from Taste of Home, and the second is from Allrecipes. Both look incredibly delicious! Would you like me to provide a link to either of those recipes, or perhaps search for one with a specific protein (like chicken or beef)?\n",
      "Tool calls: [{'name': 'tavily_search', 'args': {'query': 'best car photos', 'include_images': True}, 'id': '953879679', 'type': 'tool_call'}]\n",
      "Agent: {\"query\": \"best car photos\", \"follow_up_questions\": null, \"answer\": null, \"images\": [\"http://www.pixelstalk.net/wp-content/uploads/2016/08/Best-Cars-Full-HD-Photos-1920x1080.jpg\", \"https://wallpaperaccess.com/full/3472858.jpg\", \"https://wallpapercave.com/wp/wp2707526.jpg\", \"https://wallpapercave.com/wp/wp1972021.jpg\", \"https://wallpaperaccess.com/full/1537491.jpg\"], \"results\": [{\"title\": \"Best 500+ Car Photos [Spectacular] | Download Car Images & Pictures ...\", \"url\": \"https://unsplash.com/s/photos/car\", \"content\": \"Best 500+ Car Photos [Spectacular] | Download Car Images & Pictures - Unsplash Log inSubmit an image Explore Today Images Backgrounds Wallpapers Advertise Get Unsplash+ Log inSubmit an image Photos 38k Illustrations 326 Collections 214k Users 3.8k License Orientation Sort by Relevance Filters Car sports car bmw lamborghini mustang porsche ferrari audi mercedes porsche 911 old car car interior classic car Promoted Hyundai Motor Group Our vision is clear: Progress for Humanity. Sven D Joey Banks Campbell CHUTTERSNAP Available for hire For Unsplash+ Download Getty Images For Unsplash+ Download For Unsplash+ Download For Unsplash+ Download Getty Images For Unsplash+ Download Getty Images For Unsplash+ Download Getty Images For Unsplash+ Download For Unsplash+ Download Getty Images For Unsplash+ Download For Unsplash+ Download\", \"score\": 0.77199864, \"raw_content\": null}, {\"title\": \"100,000+ Best Car Photos \\u00b7 100% Free Download - Pexels\", \"url\": \"https://www.pexels.com/search/car/\", \"content\": \"Some of them are essential, and without them you wouldn\\u2019t be able to use Pexels. But others are optional, and you get to choose whether we use them or not. Read our full Cookie Policy Allow All Manage Consent Preferences Strictly Necessary Cookies Always Active These cookies are necessary for the website to function and cannot be switched off in our systems. They are usually only set in response to actions made by you which amount to a request for services, such as setting your privacy preferences, logging in or filling in forms. You can set your browser to block or alert you about these cookies, but some parts of the site will not then work.\", \"score\": 0.37586737, \"raw_content\": null}], \"response_time\": 2.3}\n",
      "Agent: Okay, here are the links to those awesome car photos:\n",
      "\n",
      "*   [https://unsplash.com/s/photos/car](https://unsplash.com/s/photos/car)\n",
      "*   [https://www.pexels.com/search/car/](https://www.pexels.com/search/car/)\n",
      "Tool calls: [{'name': 'tavily_search', 'args': {'query': 'richest person to ever exist'}, 'id': '264284229', 'type': 'tool_call'}]\n",
      "Agent: {\"query\": \"richest person to ever exist\", \"follow_up_questions\": null, \"answer\": null, \"images\": [], \"results\": [{\"title\": \"The 10 richest people who ever lived - net worths, ranked\", \"url\": \"https://www.scmp.com/magazines/style/celebrity/article/3197600/10-richest-people-who-ever-lived-net-worths-ranked-elon-musk-and-jeff-bezos-dont-come-close-genghis\", \"content\": \"From the world's most ruthless conquerors Genghis Khan and Empress Wu, to royal rulers Catherine the Great and Mansa Musa, who was the richest person to ever exist - and how do today's tech\", \"score\": 0.87218446, \"raw_content\": null}, {\"title\": \"The 10 Richest People of All Time - Money\", \"url\": \"https://money.com/the-10-richest-people-of-all-time-2/\", \"content\": \"A ranking of the wealthiest historical figures based on interviews with academic economists and historians. See who made the list, from Genghis Khan to Bill Gates, and how their fortunes were calculated.\", \"score\": 0.6685563, \"raw_content\": null}], \"response_time\": 2.04}\n",
      "Agent: According to multiple sources, including Forbes and various news outlets like the South China Morning Post and Bloomberg, **Mansa Musa I of Mali** is widely considered to be the richest person to have ever lived.\n",
      "\n",
      "In the 14th century, Mansa Musa ruled over the Mali Empire, a vast and wealthy territory in West Africa. His wealth stemmed from the empire's control of gold and salt trade routes. During his pilgrimage to Mecca in 1324-25, he reportedly spent a fortune – estimates range from $10 million to $300 million in today’s money – and showered the people he encountered with gold, solidifying his legendary status.\n",
      "\n",
      "Would you like me to elaborate on any aspect of this, such as the scale of his wealth or how it compares to modern-day figures?\n",
      "Goodbye!\n"
     ]
    }
   ],
   "source": [
    "from langchain_core.messages import AIMessage\n",
    "\n",
    "def stream_graph_updates(user_input: str):\n",
    "    for event in graph.stream({\"messages\": [{\"role\": \"user\", \"content\": user_input}]}):\n",
    "        for value in event.values():\n",
    "            if isinstance( value[\"messages\"][-1], AIMessage) and value[\"messages\"][-1].tool_calls:\n",
    "               print(\"Tool calls:\", value[\"messages\"][-1].tool_calls)\n",
    "            else:\n",
    "                print(\"Agent:\", value[\"messages\"][-1].content)\n",
    "\n",
    "\n",
    "while True:\n",
    "    try:\n",
    "        user_input = input(\"User: \")\n",
    "        if user_input.lower() in [\"quit\", \"exit\", \"q\"]:\n",
    "            print(\"Goodbye!\")\n",
    "            break\n",
    "\n",
    "        stream_graph_updates(user_input)\n",
    "    except:\n",
    "        # fallback if input() is not available\n",
    "        user_input = \"What do you know about LangGraph?\"\n",
    "        print(\"User: \" + user_input)\n",
    "        stream_graph_updates(user_input)\n",
    "        break"
   ]
  },
  {
   "cell_type": "markdown",
   "id": "d5c3ea2e",
   "metadata": {},
   "source": [
    "## Visualize"
   ]
  },
  {
   "cell_type": "code",
   "execution_count": 7,
   "id": "43188e54",
   "metadata": {},
   "outputs": [
    {
     "data": {
      "image/png": "[encoded data removed]",
      "text/plain": [
       "<IPython.core.display.Image object>"
      ]
     },
     "metadata": {},
     "output_type": "display_data"
    }
   ],
   "source": [
    "from IPython.display import Image, display\n",
    "\n",
    "try:\n",
    "    display(Image(graph.get_graph().draw_mermaid_png()))\n",
    "except Exception:\n",
    "    # This requires some extra dependencies and is optional\n",
    "    pass"
   ]
  }
 ],
 "metadata": {
  "kernelspec": {
   "display_name": ".venv",
   "language": "python",
   "name": "python3"
  },
  "language_info": {
   "codemirror_mode": {
    "name": "ipython",
    "version": 3
   },
   "file_extension": ".py",
   "mimetype": "text/x-python",
   "name": "python",
   "nbconvert_exporter": "python",
   "pygments_lexer": "ipython3",
   "version": "3.13.5"
  }
 },
 "nbformat": 4,
 "nbformat_minor": 5
}
